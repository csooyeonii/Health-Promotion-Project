{
 "cells": [
  {
   "cell_type": "markdown",
   "id": "7d1f016e-347e-4b91-9594-f012f03340b2",
   "metadata": {},
   "source": [
    "## Script"
   ]
  },
  {
   "cell_type": "markdown",
   "id": "e2dcfb2c-4cd2-4d72-8eb5-ad9bc9a16e19",
   "metadata": {},
   "source": [
    "**R**\n",
    "Picture this. You’re anfirst time parent in the ER waiting room\n",
    "tic. tic.. tic… (speed) time goes ever so slowly, and you’re starting to feel nauseous too and yout thoughts spirla what if the disease your child has is contagious what if the damage is irreversible and as you looka tound you see people laid down moaning and groaning, limp bodies propped up by the waiting room chairs like stuffed dolls and you worry if youve done wrong as a parent. If your child is too young and body too weak to fight the disease of the oncoming world and the unknowns and what if in the time of waitingg 30 60 90 minutes your fear and anger and worry gores and wanes and you can’t figuroe out what’s wrong. good evening honourable judges and people at cmd f / panel\n",
    "The solition to your problem\n",
    "\n",
    "**J**\n",
    "\n",
    "\n",
    "**C**"
   ]
  },
  {
   "cell_type": "code",
   "execution_count": null,
   "id": "4d588609-c6f7-41a9-a947-2e3726aebbc5",
   "metadata": {},
   "outputs": [],
   "source": []
  }
 ],
 "metadata": {
  "kernelspec": {
   "display_name": "",
   "name": ""
  },
  "language_info": {
   "name": ""
  }
 },
 "nbformat": 4,
 "nbformat_minor": 5
}
