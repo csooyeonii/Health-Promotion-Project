{
 "cells": [
  {
   "cell_type": "markdown",
   "id": "7d1f016e-347e-4b91-9594-f012f03340b2",
   "metadata": {},
   "source": [
    "# Script\n",
    "*Present from J's laptop, C controls presentation*\n",
    "\n",
    "*Figma:\n",
    "https://www.figma.com/proto/BGTgJk3QTpU13CmunZiMTL/Health-Promotion-Project?node-id=8%3A2&scaling=scale-down&page-id=0%3A1&starting-point-node-id=8%3A2*"
   ]
  },
  {
   "cell_type": "markdown",
   "id": "e2dcfb2c-4cd2-4d72-8eb5-ad9bc9a16e19",
   "metadata": {
    "jp-MarkdownHeadingCollapsed": true,
    "tags": []
   },
   "source": [
    "**R**\n",
    "Picture this. You’re a first time parent in the ER waiting room with your child who's struggling to breathe is now complaining of a headache. tic. tic.. tic… *(speed)* time goes ever so slowly, and you’re starting to feel nauseous too and in the 30-60-90 minutes you're waiting, your thoughts spiral - what if the disease your child has is contagious, what if the damage is irreversible, and as you look around the room you see people laid down moaning and groaning, limp bodies propped up like stuffed dolls by waiting room chairs, and you worry if you've done wrong as a parent. If your child is too young and body too weak to fight the disease of the oncoming world and its unknowns. Your fear, anger, worry, and pain are tidal waves battering your alread echauseted body and mind. Good afternoon honourable judges and panel, this problem is all too common at our ERs here in Vancouver, that is why our team will present the solution to your problem. We present to you: ED Link. We have one more member of our team, Maliha, who was unable to stay for the judging but also helped with our project.\n",
    "\n",
    "**J** \n",
    "Healthcare is a basic human need and accesiblility, and the recent pandemic has revealed to us some of the drawbacks and limitations of our current healthcare sytem, including the ER wait times. One common reason for this backlog is due to many patients coming in for symptoms and conditions that can easily be solved by visiting a walk-in clinic or their family practitioners. \n",
    "\n",
    "**C or J** \n",
    "Currently, the goal of this app is to aid users who are unsure of whether or not to bring their child to the emergency room, as most of the patients coming in are first-time parents unsure and worried about their child's wellbeing. This will help reduce waiting times and better ensure the general population's access to healthcare and safety.\n",
    "*(Go through app first then figma when it stops working LOL, see Figma section at bottom)*\n",
    "\n",
    "**R** \n",
    "We designed an android app for easy accessibility on the phone, with considerations to our design taken from *Nielsen Norman group's 10 Usability Heuristics for User Interface Design* including (1) Visibility of system status: our large icons that change colour to show clearly what page you are on allows for easy access and understanding even for adults who may be less technologically adept (2) Consistency and standards: recognizable icons and clear wording are hard to mistake or misunderstand.\n",
    "\n",
    "**J**\n",
    "The large simple easy-to-read font and design makes the user experience straightforward and efficient. Our project also included other considerations into our design by the pastel green colour palette, proven colour to relax body and alleviate stress in colour therapy as users of the app are often worried and anxious about them or their child's conditions.\n",
    "\n",
    "**C or R**\n",
    "Currently, our app presents some of the most common symptoms exhibited by sick children for quick and easy access. These problems often presented to the ER aren't always causes for immediate concern. Upon clicking on these buttons it brings you to a page that asks you to check for accompanying symptoms that confirm whether it is an ER problem or not.\n",
    "\n",
    "If you click on the emergency button, it brings you to our maps page which should use a google maps API and web scrapes Vancouver ED or ER wait times from *(show link)* http://www.edwaittimes.ca/WaitTimes.aspx to show you the wait times for your nearest hospitals as well aas how long it will take to get there.\n",
    "\n",
    "**J**\n",
    "If it is not an emergency, the app will link you to possible resources for what you should do instead.\n",
    "\n",
    "It is important to note that this application is preliminary, and more data is required to improve the recommendations and increase the symptom choices available to the user. In terms of improving upon this application, would be prompting user on preventative measures such as vaccination.\n",
    "\n",
    "**R**\n",
    "That is the end of our project and we hope you will download our app: ED Link."
   ]
  },
  {
   "cell_type": "markdown",
   "id": "f5fc9c56-525d-47dc-b6f5-c06ab073b06f",
   "metadata": {},
   "source": [
    "## Transition to Figma\n",
    "**C or J**\n",
    "Here is our Figma WIP with the remaining functions we weren't able to implement like the chatbox feature which lets you chat to AI for other symptoms and if it determines it a concern, the chatbox AI will connect you with a healthcare provider."
   ]
  }
 ],
 "metadata": {
  "kernelspec": {
   "display_name": "",
   "name": ""
  },
  "language_info": {
   "name": ""
  }
 },
 "nbformat": 4,
 "nbformat_minor": 5
}
